{
  "cells": [
    {
      "cell_type": "markdown",
      "metadata": {
        "id": "view-in-github",
        "colab_type": "text"
      },
      "source": [
        "<a href=\"https://colab.research.google.com/github/sushantnair/Reinforcement-Learning-2nd-Edition-Notes-Codes/blob/main/chapter_05_monte_carlo_methods/Monte_Carlo_Blackjack_Demonstration.ipynb\" target=\"_parent\"><img src=\"https://colab.research.google.com/assets/colab-badge.svg\" alt=\"Open In Colab\"/></a>"
      ]
    },
    {
      "cell_type": "markdown",
      "source": [
        "# Installing Dependencies"
      ],
      "metadata": {
        "id": "ptQKksAbExoX"
      }
    },
    {
      "cell_type": "code",
      "execution_count": null,
      "metadata": {
        "colab": {
          "base_uri": "https://localhost:8080/"
        },
        "id": "JuDWA5loOsFM",
        "outputId": "b9cdd35b-2703-4828-ad14-494bafe11476"
      },
      "outputs": [
        {
          "output_type": "stream",
          "name": "stdout",
          "text": [
            "Collecting gymnasium\n",
            "  Downloading gymnasium-0.29.1-py3-none-any.whl.metadata (10 kB)\n",
            "Requirement already satisfied: numpy>=1.21.0 in /usr/local/lib/python3.10/dist-packages (from gymnasium) (1.26.4)\n",
            "Requirement already satisfied: cloudpickle>=1.2.0 in /usr/local/lib/python3.10/dist-packages (from gymnasium) (2.2.1)\n",
            "Requirement already satisfied: typing-extensions>=4.3.0 in /usr/local/lib/python3.10/dist-packages (from gymnasium) (4.12.2)\n",
            "Collecting farama-notifications>=0.0.1 (from gymnasium)\n",
            "  Downloading Farama_Notifications-0.0.4-py3-none-any.whl.metadata (558 bytes)\n",
            "Downloading gymnasium-0.29.1-py3-none-any.whl (953 kB)\n",
            "\u001b[?25l   \u001b[90m━━━━━━━━━━━━━━━━━━━━━━━━━━━━━━━━━━━━━━━━\u001b[0m \u001b[32m0.0/953.9 kB\u001b[0m \u001b[31m?\u001b[0m eta \u001b[36m-:--:--\u001b[0m\r\u001b[2K   \u001b[91m━━━━━━━━━━━━━━━━━━━━━\u001b[0m\u001b[90m╺\u001b[0m\u001b[90m━━━━━━━━━━━━━━━━━━\u001b[0m \u001b[32m501.8/953.9 kB\u001b[0m \u001b[31m14.6 MB/s\u001b[0m eta \u001b[36m0:00:01\u001b[0m\r\u001b[2K   \u001b[90m━━━━━━━━━━━━━━━━━━━━━━━━━━━━━━━━━━━━━━━━\u001b[0m \u001b[32m953.9/953.9 kB\u001b[0m \u001b[31m17.3 MB/s\u001b[0m eta \u001b[36m0:00:00\u001b[0m\n",
            "\u001b[?25hDownloading Farama_Notifications-0.0.4-py3-none-any.whl (2.5 kB)\n",
            "Installing collected packages: farama-notifications, gymnasium\n",
            "Successfully installed farama-notifications-0.0.4 gymnasium-0.29.1\n"
          ]
        }
      ],
      "source": [
        "!pip install gymnasium"
      ]
    },
    {
      "cell_type": "markdown",
      "source": [
        "# Importing Dependencies"
      ],
      "metadata": {
        "id": "q6ml-ZqBE1DP"
      }
    },
    {
      "cell_type": "code",
      "execution_count": null,
      "metadata": {
        "id": "cbt-NEiMO1bA"
      },
      "outputs": [],
      "source": [
        "import random\n",
        "import numpy as np\n",
        "import gymnasium as gym\n",
        "from gym import error, spaces, utils\n",
        "from gym.utils import seeding\n",
        "import enum\n",
        "import pandas as pd\n",
        "import matplotlib.pyplot as plt\n",
        "import time"
      ]
    },
    {
      "cell_type": "markdown",
      "source": [
        "# Set up the game"
      ],
      "metadata": {
        "id": "RSlZaAJ3E4YL"
      }
    },
    {
      "cell_type": "code",
      "source": [
        "# Define the rank and suit of a card\n",
        "\n",
        "ranks = {\n",
        "    \"two\": 2,\n",
        "    \"three\": 3,\n",
        "    \"four\": 4,\n",
        "    \"five\": 5,\n",
        "    \"six\": 6,\n",
        "    \"seven\": 7,\n",
        "    \"eight\": 8,\n",
        "    \"nine\": 9,\n",
        "    \"ten\": 10,\n",
        "    \"jack\": 10,\n",
        "    \"queen\": 10,\n",
        "    \"king\": 10,\n",
        "    \"ace\": (1, 11),\n",
        "}\n",
        "\n",
        "class Suit(enum.Enum):\n",
        "    spades = \"spades\"\n",
        "    clubs = \"clubs\"\n",
        "    diamonds = \"diamonds\"\n",
        "    hearts = \"hearts\"\n",
        "\n",
        "# Now to define the card and deck\n",
        "# Implement the shuffle, peek and deal functions for the deck\n",
        "\n",
        "class Card:\n",
        "    def __init__(self, suit, rank, value):\n",
        "        self.suit = suit\n",
        "        self.rank = rank\n",
        "        self.value = value\n",
        "\n",
        "    def __str__(self):\n",
        "        return self.rank + \" of \" + self.suit.value\n",
        "\n",
        "class Deck:\n",
        "    def __init__(self, num=1):\n",
        "        self.cards = []\n",
        "        for i in range(num):\n",
        "            for suit in Suit:\n",
        "                for rank, value in ranks.items():\n",
        "                    self.cards.append(Card(suit, rank, value))\n",
        "\n",
        "    def shuffle(self):\n",
        "        random.shuffle(self.cards)\n",
        "\n",
        "    def deal(self):\n",
        "        return self.cards.pop(0)\n",
        "\n",
        "    def peek(self):\n",
        "        if len(self.cards) > 0:\n",
        "            return self.cards[0]\n",
        "\n",
        "    def add_to_bottom(self, card):\n",
        "        self.cards.append(card)\n",
        "\n",
        "    def __str__(self):\n",
        "        result = \"\"\n",
        "        for card in self.cards:\n",
        "            result += str(card) + \"\\n\"\n",
        "        return result\n",
        "\n",
        "    def __len__(self):\n",
        "        return len(self.cards)"
      ],
      "metadata": {
        "colab": {
          "base_uri": "https://localhost:8080/"
        },
        "id": "D3df2N-JrKiE",
        "outputId": "a36dc6fc-51b2-4fb0-bfb5-380e143cc4b4"
      },
      "execution_count": null,
      "outputs": [
        {
          "output_type": "stream",
          "name": "stderr",
          "text": [
            "/usr/local/lib/python3.10/dist-packages/ipykernel/ipkernel.py:283: DeprecationWarning: `should_run_async` will not call `transform_cell` automatically in the future. Please pass the result to `transformed_cell` argument and any exception that happen during thetransform in `preprocessing_exc_tuple` in IPython 7.17 and above.\n",
            "  and should_run_async(code)\n"
          ]
        }
      ]
    },
    {
      "cell_type": "markdown",
      "source": [
        "# Define the logic for evaluating the value of the player's hand"
      ],
      "metadata": {
        "id": "jLdAUSMgFPIi"
      }
    },
    {
      "cell_type": "code",
      "source": [
        "'''\n",
        "An ace is used as 11 whenever possible. It is 1 only if the other option would make the player bust.\n",
        "'''\n",
        "\n",
        "def player_eval(player_hand):\n",
        "    num_ace = 0\n",
        "    # use_one means that every ace in the hand is counted as one\n",
        "    use_one = 0\n",
        "    for card in player_hand:\n",
        "        if card.rank == \"ace\":\n",
        "            num_ace += 1\n",
        "            use_one += card.value[0] # use 1 for Ace\n",
        "        else:\n",
        "            use_one += card.value\n",
        "\n",
        "    if num_ace > 0:\n",
        "        # Define player policy for Aces:\n",
        "        # Make Aces 11 if they get you to the range [18, 21]\n",
        "        # Otherwise, use one.\n",
        "\n",
        "        ace_counter = 0\n",
        "        while ace_counter < num_ace:\n",
        "            # Only add by 10 because 1 is already added before\n",
        "            use_eleven = use_one + 10\n",
        "            if use_eleven > 21:\n",
        "                return use_one\n",
        "            elif use_eleven >= 18 and use_eleven <= 21:\n",
        "                return use_eleven\n",
        "            else:\n",
        "                # This allows for some Aces to be 11 and others to be 1.\n",
        "                use_one = use_eleven\n",
        "            ace_counter += 1\n",
        "        return use_one\n",
        "    else:\n",
        "        return use_one"
      ],
      "metadata": {
        "id": "SWrENBc-vEUL"
      },
      "execution_count": null,
      "outputs": []
    },
    {
      "cell_type": "markdown",
      "source": [
        "# Define the logic for evaluating the value of the dealer's hand"
      ],
      "metadata": {
        "id": "T9tDhTf0FWUV"
      }
    },
    {
      "cell_type": "code",
      "source": [
        "# This follows the same, official rules every time.\n",
        "# Still there is a need to figure out what happens if there are multiple Aces.\n",
        "def dealer_eval(player_hand):\n",
        "    num_ace = 0\n",
        "    use_one = 0\n",
        "    for card in player_hand:\n",
        "        if card.rank == \"ace\":\n",
        "            num_ace += 1\n",
        "            use_one += card.value[0] # use 1 for Ace\n",
        "        else:\n",
        "            use_one += card.value\n",
        "\n",
        "    if num_ace > 0:\n",
        "        # See if using 11 instead of 1 for the Ace gets the dealer's hand value closer to the [17, 21] range.\n",
        "        # The dealer will follow Hard 17 rules. This means that the dealer will not hit again if the Ace yields a 17.\n",
        "        # This also means that Aces initially declared as 11 can be changed to 1 as new cards come.\n",
        "\n",
        "        ace_counter = 0\n",
        "        while ace_counter < num_ace:\n",
        "            # Only add 10 because 1 is already added before\n",
        "            use_eleven = use_one + 10\n",
        "\n",
        "            if use_eleven > 21:\n",
        "                return use_one\n",
        "            elif use_eleven >= 17 and use_eleven <= 21:\n",
        "                return use_eleven\n",
        "            else:\n",
        "                # The case where even using Ace as eleven is less than 17.\n",
        "                use_one = use_eleven\n",
        "            ace_counter += 1\n",
        "        return use_one\n",
        "    else:\n",
        "        return use_one"
      ],
      "metadata": {
        "id": "YzDYaCCVx3AH"
      },
      "execution_count": null,
      "outputs": []
    },
    {
      "cell_type": "markdown",
      "source": [
        "# Define logic for the dealer's turn"
      ],
      "metadata": {
        "id": "ips4ASjUFaEg"
      }
    },
    {
      "cell_type": "code",
      "source": [
        "def dealer_turn(dealer_hand, deck):\n",
        "    # Calculate the dealer hand's value.\n",
        "    dealer_value = dealer_eval(dealer_hand)\n",
        "\n",
        "    # Define dealer policy (which is fixed to the official rules)\n",
        "    # The dealer keeps hitting until their total is 17 or more\n",
        "    while dealer_value < 17:\n",
        "        dealer_hand.append(deck.deal())\n",
        "        dealer_value = dealer_eval(dealer_hand)\n",
        "\n",
        "    return dealer_value, dealer_hand, deck"
      ],
      "metadata": {
        "id": "YetM4Xsixlrf"
      },
      "execution_count": null,
      "outputs": []
    },
    {
      "cell_type": "markdown",
      "source": [
        "# Define the OpenAI Gym Environment for Blackjack"
      ],
      "metadata": {
        "id": "jUQRNbyAFd9-"
      }
    },
    {
      "cell_type": "code",
      "source": [
        "INITIAL_BALANCE = 1000\n",
        "NUM_DECKS = 6\n",
        "\n",
        "class BlackjackEnv(gym.Env):\n",
        "    metadata = {'render.modes': ['human']}\n",
        "\n",
        "    def __init__(self):\n",
        "        super(BlackjackEnv, self).__init__()\n",
        "\n",
        "        # Initialize the blackjack deck\n",
        "        self.bj_deck = Deck(NUM_DECKS)\n",
        "\n",
        "        self.player_hand = []\n",
        "        self.dealer_hand = []\n",
        "\n",
        "        self.reward_options = {\"lose\": -100, \"tie\": 0, \"win\": 100}\n",
        "\n",
        "        self.action_space = spaces.Discrete(2)\n",
        "\n",
        "        '''\n",
        "        First element of tuple is the range of possible hand values for the player (3 through 20). This is the possible range of values that the player will actually have to make a decision for. Any player hand value 21 or above already has automatic valuations, and needs no input from an AI agent.\n",
        "        However, we also need to add all the hand values that the agent could possibly end up in when they bust. Maybe the agent can glean some correlations based on what hand value they bust at, so this should be in the observation space. Also, the layout of OpenAI Gym environment class makes us have to include the bust-value in the step() function because we need to return that done is true alongside the final obs, which is the bust-value.\n",
        "        '''\n",
        "        # Second element of the tuple is the range of possible values for the dealer's upcard (2 through 11)\n",
        "        self.observation_space = spaces.Tuple((spaces.Discrete(18), spaces.Discrete(10)))\n",
        "        self.done = False\n",
        "\n",
        "    def _take_action(self, action):\n",
        "        if action == 0: #hit\n",
        "            self.player_hand.append(self.bj_deck.deal())\n",
        "        # recalculate the value of the player's hand after any changes to the hand\n",
        "        self.player_value = player_eval(self.player_hand)\n",
        "\n",
        "    def step(self, action):\n",
        "        self._take_action(action)\n",
        "\n",
        "        # End the episode/game if the player stands or has a hand value >= 21.\n",
        "        self.done = action == 1 or self.player_value >= 21\n",
        "\n",
        "        # rewards are 0 when the player hits and is still below 21, and they keep playing\n",
        "        rewards = 0\n",
        "\n",
        "        if self.done:\n",
        "            # Calculate rewards\n",
        "            if self.player_value > 21:\n",
        "                rewards = self.reward_options['lose']\n",
        "            elif self.player_value == 21:\n",
        "                rewards = self.reward_options['win']\n",
        "            else:\n",
        "                # begin the dealer turn phase\n",
        "                dealer_value, self.dealer_hand, self.bj_deck = dealer_turn(self.dealer_hand, self.bj_deck)\n",
        "                # End the dealer turn phase\n",
        "\n",
        "                # Final comparison\n",
        "                if dealer_value > 21:\n",
        "                    rewards = self.reward_options['win']\n",
        "                elif dealer_value == 21:\n",
        "                    rewards = self.reward_options['lose']\n",
        "                else:\n",
        "                    # both dealer and player value is less than 21\n",
        "                    if self.player_value > dealer_value:\n",
        "                        rewards = self.reward_options['win']\n",
        "                    elif self.player_value < dealer_value:\n",
        "                        rewards = self.reward_options['lose']\n",
        "                    else:\n",
        "                        rewards = self.reward_options['tie']\n",
        "        self.balance += rewards\n",
        "        # Subtract by 1 to fit into the possible observation range.\n",
        "        # This makes the possible range of 3 through 20 into 1 through 18.\n",
        "        player_value_obs = self.player_value - 2\n",
        "        # Get the value of the dealer's upcard; this value is what the agent sees.\n",
        "        # Subtract by 1 to fit into the possible observation range of 1 to 10\n",
        "        upcard_value_obs = dealer_eval([self.dealer_upcard]) - 1\n",
        "        # The state is represented as a player hand-value + dealer upcard pair.\n",
        "        obs = np.array([player_value_obs, upcard_value_obs])\n",
        "        return obs, rewards, self.done, {}\n",
        "\n",
        "    def reset(self):\n",
        "        # reset the game to an initial state\n",
        "        # add the player and dealer cards back into the deck\n",
        "        self.bj_deck.cards += self.player_hand + self.dealer_hand\n",
        "\n",
        "        # shuffle before beginning. Only shuffle once before the start of each game.\n",
        "        self.bj_deck.shuffle()\n",
        "        self.balance = INITIAL_BALANCE\n",
        "        self.done = False\n",
        "\n",
        "        # returns the start stage for the agent\n",
        "        # deal 2 cards to the agent and the dealer\n",
        "        self.player_hand = [self.bj_deck.deal(), self.bj_deck.deal()]\n",
        "        self.dealer_hand = [self.bj_deck.deal(), self.bj_deck.deal()]\n",
        "        self.dealer_upcard = self.dealer_hand[0]\n",
        "\n",
        "        # calculate the value of the agent's hand\n",
        "        self.player_value = player_eval(self.player_hand)\n",
        "\n",
        "        # subtract by 2 to fit into the possible observation range. This makes the possible range of 3 through 20 into 1 through 18\n",
        "        player_value_obs = self.player_value - 2\n",
        "\n",
        "        # get the value of the dealer's upcard; this value is what the agent sees. Subtract by 1 to fit the possible observation range of 1 to 10.\n",
        "        upcard_value_obs = dealer_eval([self.dealer_upcard]) - 1\n",
        "\n",
        "        # the state is represented as a player hand-value + dealer upcard pair.\n",
        "        obs = np.array([player_value_obs, upcard_value_obs])\n",
        "        return obs\n",
        "\n",
        "    def render(self, mode='human', close=False):\n",
        "        # convert the player hand into a format that is easy to read and understand.\n",
        "        hand_list = []\n",
        "        for card in self.player_hand:\n",
        "            hand_list.append(card.rank)\n",
        "\n",
        "        # recalculate the value of the dealer upcard.\n",
        "        upcard_value = dealer_eval([self.dealer_upcard])\n",
        "\n",
        "        print(f'Balance: {self.balance}')\n",
        "        print(f'Player Hand: {hand_list}')\n",
        "        print(f'Dealer Upcard: {upcard_value}')\n",
        "        print(f'Done: {self.done}')"
      ],
      "metadata": {
        "id": "am91D0LgqNnf"
      },
      "execution_count": null,
      "outputs": []
    },
    {
      "cell_type": "markdown",
      "source": [
        "# Test the OpenAI Gym Blackjack Environment"
      ],
      "metadata": {
        "id": "BHiry8g3FiEL"
      }
    },
    {
      "cell_type": "code",
      "source": [
        "env = BlackjackEnv()\n",
        "\n",
        "total_rewards = 0\n",
        "NUM_EPISODES = 1000\n",
        "\n",
        "for _ in range(NUM_EPISODES):\n",
        "    env.reset()\n",
        "    episode_reward = 0\n",
        "    while env.done == False:\n",
        "        action = env.action_space.sample()\n",
        "        new_state, reward, done, desc = env.step(action)\n",
        "        episode_reward += reward\n",
        "    total_rewards += episode_reward\n",
        "\n",
        "avg_reward = total_rewards / NUM_EPISODES\n",
        "print(f'Average Reward: {avg_reward}')"
      ],
      "metadata": {
        "colab": {
          "base_uri": "https://localhost:8080/"
        },
        "id": "ttzs7UQb2qCP",
        "outputId": "94c0576f-abdf-49ff-eead-38312653e263"
      },
      "execution_count": null,
      "outputs": [
        {
          "output_type": "stream",
          "name": "stdout",
          "text": [
            "Average Reward: -32.2\n"
          ]
        }
      ]
    },
    {
      "cell_type": "markdown",
      "source": [
        "# A function to map a state from the Blackjack environment to the proper index i Q and prob tables"
      ],
      "metadata": {
        "id": "f3Oo6Kz4FldW"
      }
    },
    {
      "cell_type": "code",
      "source": [
        "'''\n",
        "Given a state, derive the corresponding index in the Q-table. This state is a player hand value and dealer upcard pair, so the hashing formula must be used to allocate the indices of the Q-table properly.\n",
        "'''\n",
        "def get_Q_state_index(state):\n",
        "    '''\n",
        "    The player value is already subtracted by 1 in the env when it returns the state. Subtract by 1 again to fir with the array indexing that starts at 0.\n",
        "    '''\n",
        "    initial_player_value = state[0] - 1\n",
        "    '''\n",
        "    The upcard value is already subtracted by 1 in the env when it returns the state. dealer_upcard will be subtracted by 1 to fit with the array indexing that starts at 0.\n",
        "    '''\n",
        "    dealer_upcard = state[1] - 1\n",
        "    return(env.observation_space[1].n * (initial_player_value)) + (dealer_upcard)"
      ],
      "metadata": {
        "id": "etl-JD8lHlJB"
      },
      "execution_count": null,
      "outputs": []
    },
    {
      "cell_type": "markdown",
      "source": [
        "# Functions to get and update the probability of taking the best action"
      ],
      "metadata": {
        "id": "TjRTbwhdFo5x"
      }
    },
    {
      "cell_type": "code",
      "source": [
        "# for a given state\n",
        "def get_prob_of_best_action(env, state, Q, prob):\n",
        "    # Use the mappig function to figure out which index of Q corresponds to the player hand value and dealer upcard value that defines each state.\n",
        "    Q_state_index = get_Q_state_index(state)\n",
        "\n",
        "    # Use this index in the Q 2-D array to get a 2-element array that yield the current Q-values for hitting (index 0) and standing (index 1) in this state. Use np.argmax() function to find the index of the action that yields the maximum rewards, i.e., the best action we are looking for.\n",
        "    best_action = np.argmax(Q[Q_state_index])\n",
        "\n",
        "    # Retrieve the probability of the best action using the state/action pair as indices of the 'prob' array, which stores the probability of taking an action (hit or stand) for a given state/action pair.\n",
        "    return prob[Q_state_index][best_action]\n",
        "\n",
        "def update_prob_of_best_action(env, state, Q, prob, epsilon):\n",
        "    Q_state_index = get_Q_state_index(state)\n",
        "\n",
        "    best_action = np.argmax(Q[Q_state_index])\n",
        "\n",
        "    '''\n",
        "    Slightly alter the probability of this best action being taken by using epsilon. Epsilon starts at 1.0, and slowly decays over time. Therefore, as per the equation below, the AI agent will use the probability listed for the best action in the 'prob' table during the beginning of the algorithm. As time goes on, the likelihood that the best action is taken is increased from what is listed in the 'prob' table.\n",
        "    This allows for the exploration of other moves in the beginning of the algorithm, but exploitation later for a greater reward.\n",
        "    '''\n",
        "    prob[Q_state_index][best_action] = min(1, prob[Q_state_index][best_action] + 1 - epsilon)\n",
        "\n",
        "    other_action = 1 if best_action == 0 else 0\n",
        "    prob[Q_state_index][other_action] = 1 - prob[Q_state_index][best_action]\n",
        "\n",
        "    return prob"
      ],
      "metadata": {
        "id": "qazyxoCbYLhz"
      },
      "execution_count": null,
      "outputs": []
    },
    {
      "cell_type": "markdown",
      "source": [
        "# play_game() function"
      ],
      "metadata": {
        "id": "D89gCgidFruP"
      }
    },
    {
      "cell_type": "code",
      "source": [
        "'''\n",
        "Simulates one round of Blackjack.\n",
        "\n",
        "First, use env.reset() to set up a new round of Blackjack.\n",
        "\n",
        "If the player is already dealt a blackjack by luck, then this episode is just scrapped. There is nothing the AI agent can learn from this episode since it did not have to make any decisions.\n",
        "\n",
        "Otherwise, the AI agent finds the best action available given the current state of the game and its knowledge so far. This knowledge is stored in the Q-table defined in the run_mc() function. Then, the AI agent retrieves the probability that it should take this action from the prob table. The AI agent applies this probability and chooses its action given this state. The action is sent to the environment, and a reward is returned. This state-action-reward sequence that just occured is stored in episode variable as a tuple. This process is repeated until the current episode is over. Each episode will roughly rield 1-3 tuples in episode variable since Blackjack rounds are usually resolved after 1-3 decisions by the player.\n",
        "\n",
        "The Q-values in the Q-table associated with each state-action pair that was seen in this episode will be updated after this episode based on the state-action-reward tuples returned by this function. Then, the corresponding probabilities in prob variable are also modified to reflect this change in Q-values.\n",
        "'''\n",
        "\n",
        "def play_game(env, Q, prob):\n",
        "    '''\n",
        "    Can contain numerous state->action->reward tuples bacause a round of Blackjack is not always resolved in one turn. However, there will be no state that has a player hand value that exceeds 20, since only initial states BEFORE actions are made are used when storing state->action->reward tuples.\n",
        "    '''\n",
        "    episode = []\n",
        "    state = env.reset()\n",
        "    while env.done == False:\n",
        "        if state[0] == 19:\n",
        "            # Player was dealt blackjack right from the beginning; player_value already subtracted by 2 to get state[0]\n",
        "            # No analysis done for this useless episode\n",
        "             next_state, reward, env.done, info = env.step(1)\n",
        "        else:\n",
        "            # Get the index in Q that corresponds to the current state\n",
        "            Q_state_index = get_Q_state_index(state)\n",
        "\n",
        "            # Use the index to get the possible actions, and use np.argmax() to get the index of the action that has the highest current Q value. Index 0 is hit, 1 is stand.\n",
        "            best_action = np.argmax(Q[Q_state_index])\n",
        "\n",
        "            # Go to the prob table to retrieve the probability of this action. This uses the same Q_state_index used for finding the state index of the Q-table.\n",
        "            prob_of_best_action = get_prob_of_best_action(env, state, Q, prob)\n",
        "\n",
        "            action_to_take = None\n",
        "\n",
        "            if random.uniform(0, 1) < prob_of_best_action:\n",
        "                # Take the best action\n",
        "                action_to_take = best_action\n",
        "            else:\n",
        "                # Take the other action\n",
        "                action_to_take = 1 if best_action == 0 else 0\n",
        "\n",
        "            # The action is performed by the agent, and the next state, rewards and done information is returned.\n",
        "            next_state, reward, env.done, info = env.step(action_to_take)\n",
        "\n",
        "            # Log the state->action->reward sequence\n",
        "            episode.append((state, action_to_take, reward))\n",
        "\n",
        "            # Update the state for the next decision made by the agent.\n",
        "            state = next_state\n",
        "\n",
        "    return episode"
      ],
      "metadata": {
        "id": "HmFb1gcWFFcm"
      },
      "execution_count": null,
      "outputs": []
    },
    {
      "cell_type": "markdown",
      "source": [
        "# update_Q() function"
      ],
      "metadata": {
        "id": "MoKz3QUBFuZl"
      }
    },
    {
      "cell_type": "code",
      "source": [
        "\n",
        "'''\n",
        "This function iterates through the state-action-reward tuples in episode and updates the Q-values of the corresponding state-action pairs in Q.\n",
        "'''\n",
        "\n",
        "def update_Q(env, episode, Q, alpha, gamma):\n",
        "    '''\n",
        "    This is where the algorithm hinges on being first visit or every visit. First visit will be used because if you want first-visit, you need to use the cumulative reward of the entire episode when updating a Q-value for ALL of the state/action pairs in the episode, even the first state/action pair. In this algorithm, an episode is a round of Blackjack. Although the bulk of the reward may come from the 2nd or 3rd decision, deciding to hit on the 1st decision is what enabled the future situations to even occur, so it is important to include the entire cumulative reward. We can reduce the impact of the rewards of the future decisions by lowering gamma, which will lower the G value for our early state/action pair in which we hit and did not get any immediate rewards. This will make our agent consider future rewards, and not just look at each state in isolation despite having hit previously.\n",
        "    If you want Every-Visit MC, do not use the cumulative rewards when updating Q-values and just use the immediate reward in this episode for each state/action pair.\n",
        "    '''\n",
        "    step = 0\n",
        "    for state, action, reward in episode:\n",
        "        # calculate the cumulative reward of taking this action in this state.\n",
        "        # Start from the immediate rewards, and use all the rewards from the subsequent states.\n",
        "        # Do not use rewards from previous states\n",
        "\n",
        "        total_reward = 0\n",
        "        gamma_exp = 0\n",
        "        for curr_step in range(step, len(episode)):\n",
        "            curr_reward = episode[curr_step][2]\n",
        "            total_reward += (gamma ** gamma_exp) * curr_reward\n",
        "            gamma_exp += 1\n",
        "\n",
        "        # Update the Q-value\n",
        "        Q_state_index = get_Q_state_index(state)\n",
        "        curr_Q_value = Q[Q_state_index][action]\n",
        "        Q[Q_state_index][action] = curr_Q_value + alpha * (total_reward - curr_Q_value)\n",
        "        # update step to start further down the episode the next time.\n",
        "        step += 1\n",
        "    return Q"
      ],
      "metadata": {
        "id": "R08jdGkVbQD0"
      },
      "execution_count": null,
      "outputs": []
    },
    {
      "cell_type": "markdown",
      "source": [
        "# update_prob() function"
      ],
      "metadata": {
        "id": "BcUOuFW2Fwm4"
      }
    },
    {
      "cell_type": "code",
      "source": [
        "\n",
        "def update_prob(env, episode, Q, prob, epsilon):\n",
        "    for state, action, reward in episode:\n",
        "        '''\n",
        "        Update the probabilities of the actions that can be taken given the current state. The goal is that the new update in Q has changed what the best action is, and epsilon will be used to create a small increase in the probability that the new, better action is chosen.\n",
        "        '''\n",
        "        prob = update_prob_of_best_action(env, state, Q, prob, epsilon)\n",
        "    return prob"
      ],
      "metadata": {
        "id": "4UA7u4nWdRFL"
      },
      "execution_count": null,
      "outputs": []
    },
    {
      "cell_type": "markdown",
      "source": [
        "# First-Visit Monte Carlo Algorithm"
      ],
      "metadata": {
        "id": "rR5AeirSFy5h"
      }
    },
    {
      "cell_type": "code",
      "source": [
        "# run_mc() to run the First Visit Monte Carlo Algorithm\n",
        "'''\n",
        "This function initializes the key variables for the algorithm and runs the learning algorithm for the AI agent for num_episodes episodes. An episode is a simulation of one game of Blackjack using the OpenAI Gym environment defined above.\n",
        "Q, or the Q-table, is a 2D list in which the rows are the different possible states and the columns are the different possible actions for each state. The values stored in each cell refer to the value, or Q-value, of selecting some action (the column index) given some state (the row index). These Q-values start at 0 for every state-action pair, and are updated by the update_Q() function after each episode to reflect the rewards received in an episode where the state-action pair occured. All Q-values initially start at 0.\n",
        "\n",
        "prob, or the prob table, has the same structure as Q, but the cell values refer to the probability of selecting some action (the column index) given some state (the row index). These probabilites are updated by the update_prob() function after the Q-values are updated after each episode. All action probabilities start at 0.5 (or 50%).\n",
        "\n",
        "alpha defines the weight given to each new change in Q-value within the update-Q() function. A smaller alpha means that a new reward logged in an episode for some state-action pair has less impact on the current Q-value for that state-action pair. The converse is also true. Therefore, alpha essentially defines how fast the AI agent learns (learning rate).\n",
        "\n",
        "epsilon defines the weight given to each new change in the action probabilities within the update_prob() function. A larger epsilon reduces the precent amount by which an action probability is changed after some change in Q-values. The converse is also true. An epsilon of 1 means that no change will occur in the action probability, regardless of the magnitude of changes in Q-values.\n",
        "\n",
        "epsilon is decayed by the decay value after every episode. The lowest value epsilon can reach is epsilon_min.\n",
        "\n",
        "gamma is the rate used to discount future rewards yielded by a certain state-action pair in the episode. Since a round (or episode) of Blackjack can have more than 1 decision made, there can be numerous state-action pairs that are seen in one episode. However, only the final decision (or state-action pair) yields an immediate reward from the environment. All previous state-action pairs had no rewards. So, the final reward must be used to modify the Q-values of the earlier state-action pairs. Since the final reward was only partially made possible by the eariler state-action pairs, the final reward is discounted using gamma to account for this.\n",
        "\n",
        "Once these important variables are defines, this function runs the First-Visit Monte Carlo algorithm for the Blackjack environment.\n",
        "\n",
        "The function runs num_episodes episodes.\n",
        "\n",
        "In each episode, epsilon is first decayed by the decay rate.\n",
        "\n",
        "Then, the game of Blackjack is played out throught the play_game() function. This function returns a list of the state-action-reward tuples that occured during the game. These tuples represent the actions the AI agent had to take given some state, and the rewards that resulted.\n",
        "\n",
        "These tuples are used to modify the Q-values in Q through the update_Q() function.\n",
        "\n",
        "Then, the tuples are used to modify the probability distributions in prob of the two actions (hit or stand) for any states that were encountered in the episode. This is done through the update_prob() function.\n",
        "\n",
        "After this process is done for each episode, the function returns the modified Q and prob tables. These tables are an imprint of the learning that has taken place by the AI agent through the First-Visit Monte Carlo algorithm.\n",
        "'''\n",
        "\n",
        "def run_mc(env, num_episodes):\n",
        "    '''\n",
        "    observation_space[0] is the 18 possible player values. (3-20)\n",
        "    observation_space[1] is the 10 possible dealer upcards. (2-11)\n",
        "    Combining these togenther yields all possible states.\n",
        "    Multiplying this with hit/stand yields all possible state-action pairs.\n",
        "    This is the Q map.\n",
        "    '''\n",
        "    Q = np.zeros([env.observation_space[0].n * env.observation_space[1].n, env.action_space.n], dtype=np.float16)\n",
        "\n",
        "    # This map contains the probability distributions for each action (hit or stand) given a state. The state (combination of player hand value and dealer upcard value) index in this array yields a 2-element array. The 0th index of this 2-element array refers to the probability of hit and the 1st index is the probability of stand.\n",
        "    prob = np.zeros([env.observation_space[0].n * env.observation_space[1].n, env.action_space.n], dtype=np.float16) + 0.5\n",
        "\n",
        "    # The learning rate; very small to avoid making quick, large changes in our policy.\n",
        "    alpha = 0.001\n",
        "\n",
        "    epsilon = 1\n",
        "\n",
        "    # The rate by which epsilon will decay over time.\n",
        "    # Since the probability that decides which option has the highest Q-value is 1 - epsilon + probability, this decay will make sure that the better option is taken more often in the long run.\n",
        "    # This allows the algorithm to explore in the early stages and exploit in the later stages.\n",
        "    decay = 0.9999\n",
        "\n",
        "    # The lowest value that epsilon can go to. Although the decay seems slow, it grows exponentially, and this is magnified when running thousands of episodes.\n",
        "    epsilon_min = 0.9\n",
        "\n",
        "    gamma = 0.8\n",
        "\n",
        "    for _ in range(num_episodes):\n",
        "        episode = play_game(env, Q, prob)\n",
        "\n",
        "        epsilon = max(epsilon * decay, epsilon_min)\n",
        "\n",
        "        Q = update_Q(env, episode, Q, alpha, gamma)\n",
        "\n",
        "        prob = update_prob(env, episode, Q, prob, epsilon)\n",
        "\n",
        "    return Q, prob"
      ],
      "metadata": {
        "id": "PnRTa7FZ3RnJ"
      },
      "execution_count": null,
      "outputs": []
    },
    {
      "cell_type": "markdown",
      "source": [
        "# Run First-Visit Monte Carlo Reinforcement Learning Algorithm"
      ],
      "metadata": {
        "id": "jdfLT2OvF1sV"
      }
    },
    {
      "cell_type": "code",
      "source": [
        "env = BlackjackEnv()\n",
        "\n",
        "start_time = time.time()\n",
        "new_Q, new_prob = run_mc(env, 1000000)\n",
        "end_time = time.time()\n",
        "\n",
        "print(f'Total time for learning: {end_time - start_time} s.')"
      ],
      "metadata": {
        "colab": {
          "base_uri": "https://localhost:8080/"
        },
        "id": "UKx3psLBd3Yl",
        "outputId": "2181c312-d684-4525-bb48-ed723de63333"
      },
      "execution_count": null,
      "outputs": [
        {
          "output_type": "stream",
          "name": "stdout",
          "text": [
            "Total time for learning: 230.13713669776917 s.\n"
          ]
        }
      ]
    },
    {
      "cell_type": "markdown",
      "source": [
        "# best_policy() function"
      ],
      "metadata": {
        "id": "qICTdADBF4Eu"
      }
    },
    {
      "cell_type": "code",
      "source": [
        "'''\n",
        "This function takes the new Q-table returned and keeps only the action that yields the highest value for a given state. This is represented in three different ways: binary, string and colors.\n",
        "0 is hit and 1 is stand in the binary representation of the results.\n",
        "H is hit and S is stand in the string representation of the results.\n",
        "Green is hit and Red is stand in the color representation of the results.\n",
        "'''\n",
        "def best_policy(Q):\n",
        "    best_policy_binary = []\n",
        "    best_policy_string = []\n",
        "    best_policy_colors = []\n",
        "    for i in range(len(Q)):\n",
        "        best_policy_binary.append(np.argmax(Q[i]))\n",
        "        best_policy_string.append('H' if np.argmax(Q[i]) == 0 else 'S')\n",
        "        best_policy_colors.append('g' if np.argmax(Q[i]) == 0 else 'r')\n",
        "\n",
        "    return best_policy_binary, best_policy_string, best_policy_colors"
      ],
      "metadata": {
        "id": "MNbxnlFKeRgQ"
      },
      "execution_count": null,
      "outputs": []
    },
    {
      "cell_type": "markdown",
      "source": [
        "# Create DataFrame with Player Value as Rows and Dealer Upcard as Columns"
      ],
      "metadata": {
        "id": "89PKdgPiF6Qx"
      }
    },
    {
      "cell_type": "code",
      "source": [
        "new_Q_binary, new_Q_string, new_Q_colors = best_policy(new_Q)\n",
        "\n",
        "df = pd.DataFrame(columns = range(2, 12))\n",
        "\n",
        "color_df = pd.DataFrame(columns = range(2, 12))\n",
        "\n",
        "for s in range(3, 21):\n",
        "    # possible player values in the range 3 to 20\n",
        "    start = env.observation_space[1].n * (s - 3)\n",
        "    end = start + 10\n",
        "    df.loc[s] = (new_Q_string[start:end])\n",
        "    color_df.loc[s] = (new_Q_colors[start:end])"
      ],
      "metadata": {
        "id": "lZIV2WxWfR9z"
      },
      "execution_count": null,
      "outputs": []
    },
    {
      "cell_type": "markdown",
      "source": [
        "# Create Chart Graphic for the Results"
      ],
      "metadata": {
        "id": "Lh14aJ8jF8s-"
      }
    },
    {
      "cell_type": "code",
      "source": [
        "fig, ax = plt.subplots()\n",
        "\n",
        "# hide axes\n",
        "fig.patch.set_visible(False)\n",
        "ax.set_axis_off()\n",
        "ax.axis('tight')\n",
        "\n",
        "ax.table(cellText=df.values, cellColours=color_df.values, cellLoc='center', rowLabels=df.index, colLabels=df.columns, loc='center')\n",
        "\n",
        "fig.tight_layout()\n",
        "\n",
        "plt.show()"
      ],
      "metadata": {
        "colab": {
          "base_uri": "https://localhost:8080/",
          "height": 487
        },
        "id": "wR8JVHEef5Cf",
        "outputId": "02c77629-9a81-4150-9561-c0255ad152ea"
      },
      "execution_count": null,
      "outputs": [
        {
          "output_type": "display_data",
          "data": {
            "text/plain": [
              "<Figure size 640x480 with 1 Axes>"
            ],
            "image/png": "[encoded data removed]"
          },
          "metadata": {}
        }
      ]
    },
    {
      "cell_type": "markdown",
      "source": [
        "# Test Best Policy on New Episodes"
      ],
      "metadata": {
        "id": "NPbcI9qNF_F9"
      }
    },
    {
      "cell_type": "code",
      "source": [
        "env = BlackjackEnv()\n",
        "NUM_EPISODES = 100000\n",
        "\n",
        "for _ in range(NUM_EPISODES):\n",
        "    state = env.reset()\n",
        "    while env.done == False:\n",
        "        if state[0] == 19:\n",
        "            # Player was dealt with a Blackjack\n",
        "            next_state, reward, env.done, info = env.step(1)\n",
        "            total_rewards += reward\n",
        "        else:\n",
        "            Q_index = get_Q_state_index(state)\n",
        "            action = new_Q_binary[Q_index]\n",
        "            new_state, reward, done, desc = env.step(action)\n",
        "            state = new_state\n",
        "            total_rewards += reward\n",
        "avg_reward = total_rewards / NUM_EPISODES\n",
        "print(f'Average Reward: {avg_reward}')"
      ],
      "metadata": {
        "colab": {
          "base_uri": "https://localhost:8080/"
        },
        "id": "7sTNqbeZga_3",
        "outputId": "97878c73-7419-41d4-d600-68bfd314b8f4"
      },
      "execution_count": null,
      "outputs": [
        {
          "output_type": "stream",
          "name": "stdout",
          "text": [
            "Average Reward: -4.677\n"
          ]
        }
      ]
    },
    {
      "cell_type": "code",
      "source": [],
      "metadata": {
        "id": "WL-NmCiphQiq"
      },
      "execution_count": null,
      "outputs": []
    },
    {
      "cell_type": "markdown",
      "source": [
        "# Credits"
      ],
      "metadata": {
        "id": "73y12ontGQRk"
      }
    },
    {
      "cell_type": "markdown",
      "source": [
        "The code is work of Mr. Adithya Solai.\n",
        "<br>\n",
        "The conversion from Python to Python Notebook is work of Mr. Sushant Nair.\n",
        "<br>\n",
        "The inspiration for making this Python Notebook as part of the RL Series is Mr. Terrence Ou\n",
        "<br>\n",
        "The code is further explained in the following Medium articles by Mr. Adithya Solai. GitHub Repo link is also provided.\n",
        "<br>\n",
        "1.\thttps://towardsdatascience.com/cracking-blackjack-part-1-31da28aeb4bb\n",
        "2.\thttps://towardsdatascience.com/cracking-blackjack-part-2-75e32363e38\n",
        "3.\thttps://towardsdatascience.com/cracking-blackjack-part-3-8fd3a5870efd\n",
        "4.\thttps://towardsdatascience.com/cracking-blackjack-part-4-8b4a9caa38eb\n",
        "5.\thttps://towardsdatascience.com/cracking-blackjack-part-5-70bd2f726133\n",
        "\n",
        "https://github.com/adithyasolai/Monte-Carlo-Blackjack/blob/master/MC_Blackjack_Full.ipynb\n"
      ],
      "metadata": {
        "id": "BiGQjzloGSIX"
      }
    },
    {
      "cell_type": "code",
      "source": [],
      "metadata": {
        "id": "btiWK3iZHFi5"
      },
      "execution_count": null,
      "outputs": []
    }
  ],
  "metadata": {
    "colab": {
      "provenance": [],
      "gpuType": "T4",
      "include_colab_link": true
    },
    "kernelspec": {
      "display_name": "Python 3",
      "name": "python3"
    },
    "language_info": {
      "name": "python"
    },
    "accelerator": "GPU"
  },
  "nbformat": 4,
  "nbformat_minor": 0
}